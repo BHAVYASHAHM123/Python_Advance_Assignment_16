{
  "cells": [
    {
      "cell_type": "markdown",
      "id": "9a9448c0",
      "metadata": {
        "id": "9a9448c0"
      },
      "source": [
        "Q1). What is the benefit of regular expressions?\n",
        "\n",
        "Ans) Regular expression let us search the piece of text that matches the given pattern. The main benefit of using them is, it saves lot of time and are very eeficient to use."
      ]
    },
    {
      "cell_type": "markdown",
      "id": "ae5c5564",
      "metadata": {
        "id": "ae5c5564"
      },
      "source": [
        "Q2). Describe the difference between the effects of \"(ab)c+\" and \"a(bc)+.\" Which of these, if any, is the unqualified pattern \"abc+\"?\n",
        "\n",
        "Ans) Pattern (ab)c+ will search for at only one occurence of \"ab\" and one or more occurances of c.\n",
        "\n",
        "Pattern a(bc)+ will search for at only one occurence of \"a\" and one or more occurances of bc.\n",
        "\n",
        "pattern (ab)c+ can be unqualified pattern \"abc+\"\n"
      ]
    },
    {
      "cell_type": "code",
      "execution_count": 1,
      "id": "290f8d80",
      "metadata": {
        "colab": {
          "base_uri": "https://localhost:8080/"
        },
        "id": "290f8d80",
        "outputId": "2c51eebd-8252-4215-c502-92014daaf5a2"
      },
      "outputs": [
        {
          "output_type": "stream",
          "name": "stdout",
          "text": [
            "abcccccc\n",
            "abcbc\n"
          ]
        }
      ],
      "source": [
        "import re\n",
        "\n",
        "match1 = re.search(r'(ab)c+',\"abcccccc\")\n",
        "match2 = re.search(r'a(bc)+',\"abcbc\")\n",
        "\n",
        "print(match1.group())\n",
        "\n",
        "print(match2.group())"
      ]
    },
    {
      "cell_type": "markdown",
      "id": "88b7aa2f",
      "metadata": {
        "id": "88b7aa2f"
      },
      "source": [
        "Q3). How much do you need to use the following sentence while using regular expressions?\n",
        "\n",
        "Ans) import re\n",
        "     We have to use it everythime we use functions of the module re.\n"
      ]
    },
    {
      "cell_type": "markdown",
      "id": "f76f03f7",
      "metadata": {
        "id": "f76f03f7"
      },
      "source": [
        "Q4). Which characters have special significance in square brackets when expressing a range, and under what circumstances?\n",
        "\n",
        "Ans) \\ (backslash) : general escape character, is usd when you use character class metacharacters as literals inside a character class only.\n",
        "\n",
        "^ (circumflex anchor) : negate the class, if this is the first character in the brackets(If ^ is not the first, it is not a metacharacter.)"
      ]
    },
    {
      "cell_type": "markdown",
      "id": "cd81d27d",
      "metadata": {
        "id": "cd81d27d"
      },
      "source": [
        "Q5). How does compiling a regular-expression object benefit you?\n",
        "\n",
        "Ans) It is faster compared to using pattern ad other re functions."
      ]
    },
    {
      "cell_type": "markdown",
      "id": "05cc5ca5",
      "metadata": {
        "id": "05cc5ca5"
      },
      "source": [
        "Q6). What are some examples of how to use the match object returned by re.match and re.search?\n",
        "\n",
        "Ans) re.search() searches for the whole string even if the string contains multi-lines and tries to find a match of the substring in all the lines of string\n",
        "re.match() searches only from the beginning of the string and return match object if found. But if a match of substring is found somewhere in the middle of the string, it returns none.\n",
        "But, both search() and match() returns only the first occurance of pattern."
      ]
    },
    {
      "cell_type": "code",
      "execution_count": 2,
      "id": "b2f890be",
      "metadata": {
        "colab": {
          "base_uri": "https://localhost:8080/"
        },
        "id": "b2f890be",
        "outputId": "e6697d10-a139-4478-83da-12d949a03df0"
      },
      "outputs": [
        {
          "output_type": "stream",
          "name": "stdout",
          "text": [
            "<re.Match object; span=(20, 27), match='iNeuron'>\n",
            "None\n"
          ]
        }
      ],
      "source": [
        "import re\n",
        "\n",
        "pattern = 'ineuron'\n",
        "\n",
        "search = re.search(pattern,\"I am the student of iNeuron!\",re.IGNORECASE)\n",
        "\n",
        "print(search)\n",
        "\n",
        "match = re.match(pattern,\"In iNeuron I am student !\",re.IGNORECASE)\n",
        "\n",
        "print(match)"
      ]
    },
    {
      "cell_type": "markdown",
      "id": "7673525d",
      "metadata": {
        "id": "7673525d"
      },
      "source": [
        "Q7). What is the difference between using a vertical bar (|) as an alteration and using square brackets as a character set?\n",
        "\n",
        "Ans) | : is regex or. It will check either of any string is present in search string.\n",
        "    \n",
        "[] : This will search for any character is present in string"
      ]
    },
    {
      "cell_type": "code",
      "execution_count": 3,
      "id": "3f0b2120",
      "metadata": {
        "colab": {
          "base_uri": "https://localhost:8080/"
        },
        "id": "3f0b2120",
        "outputId": "e52af505-6b28-47ac-b4e2-196ccc02be7b"
      },
      "outputs": [
        {
          "output_type": "stream",
          "name": "stdout",
          "text": [
            "['She']\n",
            "['she is great robot!']\n"
          ]
        }
      ],
      "source": [
        "import re\n",
        "\n",
        "print(re.findall(\"She|he\", \"She is a great robot!\"))\n",
        "\n",
        "print(re.findall(r'[^\\d]+',\"she is great robot!\"))"
      ]
    },
    {
      "cell_type": "markdown",
      "id": "e598666d",
      "metadata": {
        "id": "e598666d"
      },
      "source": [
        "Q8). In regular-expression search patterns, why is it necessary to use the raw-string indicator (r)? In replacement strings?\n",
        "\n",
        "Ans)r indicates raw string means that the characters ahead are individual charachers not escape characters. It changes how the string literal is interpreted. Such literals are stored as they appear. "
      ]
    },
    {
      "cell_type": "code",
      "source": [
        ""
      ],
      "metadata": {
        "id": "3Dm5iI8EBXT8"
      },
      "id": "3Dm5iI8EBXT8",
      "execution_count": null,
      "outputs": []
    }
  ],
  "metadata": {
    "kernelspec": {
      "display_name": "Python 3",
      "language": "python",
      "name": "python3"
    },
    "language_info": {
      "codemirror_mode": {
        "name": "ipython",
        "version": 3
      },
      "file_extension": ".py",
      "mimetype": "text/x-python",
      "name": "python",
      "nbconvert_exporter": "python",
      "pygments_lexer": "ipython3",
      "version": "3.8.8"
    },
    "colab": {
      "name": "Python_Advance_Assignment_16.ipynb",
      "provenance": []
    }
  },
  "nbformat": 4,
  "nbformat_minor": 5
}